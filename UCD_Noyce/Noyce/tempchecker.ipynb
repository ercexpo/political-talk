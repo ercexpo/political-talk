{
 "cells": [
  {
   "cell_type": "code",
   "execution_count": 1,
   "metadata": {},
   "outputs": [],
   "source": [
    "import csv\n",
    "import numpy as np\n",
    "from noyce_tokenizer import Tokenizer\n",
    "#from load_data import load_pol_v2\n",
    "from utils.normalizer import normalize\n",
    "import pandas as pd"
   ]
  },
  {
   "cell_type": "code",
   "execution_count": 2,
   "metadata": {},
   "outputs": [
    {
     "name": "stdout",
     "output_type": "stream",
     "text": [
      "55096 67326\n"
     ]
    }
   ],
   "source": [
    "df = pd.read_csv(\"./data/IDEOLOGICAL/additionals/train_yt_slant_cleaned.csv\", encoding='utf-8').dropna()\n",
    "df_test = pd.read_csv(\"./data/IDEOLOGICAL/additionals/train_yt_slant_combined.csv\", encoding='utf-8').dropna()\n",
    "df['text'] = df['text'].apply(normalize)\n",
    "df_test['text'] = df_test['text'].apply(normalize)\n",
    "x_train, y_train, x_test, y_test = df['text'].tolist(), df['class_id'].tolist(), df_test['text'].tolist(), df_test['class_id'].tolist()\n",
    "\n",
    "print(df.size, df_test.size)"
   ]
  },
  {
   "cell_type": "code",
   "execution_count": 3,
   "metadata": {},
   "outputs": [],
   "source": [
    "#x_train, y_train, x_test, y_test = load_pol_v2()\n",
    "\n",
    "tokenizer = Tokenizer('roberta')"
   ]
  },
  {
   "cell_type": "code",
   "execution_count": 4,
   "metadata": {},
   "outputs": [
    {
     "name": "stdout",
     "output_type": "stream",
     "text": [
      "0\n"
     ]
    }
   ],
   "source": [
    "count = 0\n",
    "for i,x in enumerate(x_train):\n",
    "    try:\n",
    "        train_encodings = tokenizer(x, truncation=True, padding=True, max_length=128,  return_tensors='pt')\n",
    "    except:\n",
    "        count += 1\n",
    "        print(i)\n",
    "        print(x_train[i-1])\n",
    "print(count)"
   ]
  },
  {
   "cell_type": "code",
   "execution_count": 5,
   "metadata": {},
   "outputs": [
    {
     "name": "stdout",
     "output_type": "stream",
     "text": [
      "0\n"
     ]
    }
   ],
   "source": [
    "count = 0\n",
    "for i,x in enumerate(x_test):\n",
    "    try:\n",
    "        test_encodings = tokenizer(x, truncation=True, padding=True, max_length=128,  return_tensors='pt')\n",
    "    except:\n",
    "        count += 1\n",
    "        print(i)\n",
    "        print(x_train[i-1])\n",
    "print(count)"
   ]
  },
  {
   "cell_type": "code",
   "execution_count": null,
   "metadata": {},
   "outputs": [],
   "source": []
  }
 ],
 "metadata": {
  "kernelspec": {
   "display_name": "Python 3",
   "language": "python",
   "name": "python3"
  },
  "language_info": {
   "codemirror_mode": {
    "name": "ipython",
    "version": 3
   },
   "file_extension": ".py",
   "mimetype": "text/x-python",
   "name": "python",
   "nbconvert_exporter": "python",
   "pygments_lexer": "ipython3",
   "version": "3.7.6"
  }
 },
 "nbformat": 4,
 "nbformat_minor": 2
}
